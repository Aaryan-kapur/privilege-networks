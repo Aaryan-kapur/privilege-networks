{
 "cells": [
  {
   "cell_type": "code",
   "execution_count": 1,
   "metadata": {},
   "outputs": [],
   "source": [
    "import numpy as np\n",
    "import scipy\n",
    "from sklearn.tree import DecisionTreeRegressor\n",
    "import pandas as pd\n",
    "import cvxpy as cvx\n",
    "from scipy.stats import chisquare, f_oneway, ttest_ind"
   ]
  },
  {
   "cell_type": "code",
   "execution_count": 2,
   "metadata": {},
   "outputs": [],
   "source": [
    "pendle_borough_data = pd.read_csv('dataset/extracts/pendle_borough_records_extracts.csv', encoding='latin1')\n",
    "rochdale_borough_data = pd.read_csv('dataset/extracts/rochdale_borough_records_extracts.csv', encoding='latin1')\n",
    "stockport_metropolitan_borough_data = pd.read_csv('dataset/extracts/stockport_metropolitan_borough_records_extracts.csv', encoding='latin1')"
   ]
  },
  {
   "cell_type": "code",
   "execution_count": 3,
   "metadata": {},
   "outputs": [],
   "source": [
    "tree = DecisionTreeRegressor()"
   ]
  },
  {
   "cell_type": "code",
   "execution_count": 4,
   "metadata": {},
   "outputs": [
    {
     "data": {
      "text/html": [
       "<div>\n",
       "<style scoped>\n",
       "    .dataframe tbody tr th:only-of-type {\n",
       "        vertical-align: middle;\n",
       "    }\n",
       "\n",
       "    .dataframe tbody tr th {\n",
       "        vertical-align: top;\n",
       "    }\n",
       "\n",
       "    .dataframe thead th {\n",
       "        text-align: right;\n",
       "    }\n",
       "</style>\n",
       "<table border=\"1\" class=\"dataframe\">\n",
       "  <thead>\n",
       "    <tr style=\"text-align: right;\">\n",
       "      <th></th>\n",
       "      <th>supplier_name</th>\n",
       "      <th>value</th>\n",
       "      <th>department</th>\n",
       "      <th>service_description</th>\n",
       "      <th>privilege</th>\n",
       "      <th>trade_cat</th>\n",
       "      <th>service_category</th>\n",
       "    </tr>\n",
       "  </thead>\n",
       "  <tbody>\n",
       "    <tr>\n",
       "      <th>0</th>\n",
       "      <td>British Telecommunications Plc</td>\n",
       "      <td>9000.00</td>\n",
       "      <td>Financial Services</td>\n",
       "      <td>Telephones : Central</td>\n",
       "      <td>Utility</td>\n",
       "      <td>64200000</td>\n",
       "      <td>member</td>\n",
       "    </tr>\n",
       "    <tr>\n",
       "      <th>1</th>\n",
       "      <td>BROXAP LIMITED</td>\n",
       "      <td>5424.52</td>\n",
       "      <td>Parks &amp; Recreation Services</td>\n",
       "      <td>Grounds : R &amp; M : Day to Day : Routine</td>\n",
       "      <td>Material Handling</td>\n",
       "      <td>45233293</td>\n",
       "      <td>maintenance</td>\n",
       "    </tr>\n",
       "    <tr>\n",
       "      <th>2</th>\n",
       "      <td>Landscape Engineering Ltd</td>\n",
       "      <td>14900.00</td>\n",
       "      <td>Parks &amp; Recreation Services</td>\n",
       "      <td>Grounds : R &amp; M : Day to Day : Routine</td>\n",
       "      <td>Material Handling</td>\n",
       "      <td>45000000</td>\n",
       "      <td>maintenance</td>\n",
       "    </tr>\n",
       "    <tr>\n",
       "      <th>3</th>\n",
       "      <td>Landscape Engineering Ltd</td>\n",
       "      <td>14900.00</td>\n",
       "      <td>Parks &amp; Recreation Services</td>\n",
       "      <td>Grounds : R &amp; M : Day to Day : Routine</td>\n",
       "      <td>Material Handling</td>\n",
       "      <td>45000000</td>\n",
       "      <td>maintenance</td>\n",
       "    </tr>\n",
       "    <tr>\n",
       "      <th>4</th>\n",
       "      <td>BUSINESS IN THE COMMUNITY</td>\n",
       "      <td>5000.00</td>\n",
       "      <td>Economic Development &amp; Tourism</td>\n",
       "      <td>Miscellaneous</td>\n",
       "      <td>Education</td>\n",
       "      <td>80000000</td>\n",
       "      <td>misc</td>\n",
       "    </tr>\n",
       "  </tbody>\n",
       "</table>\n",
       "</div>"
      ],
      "text/plain": [
       "                    supplier_name     value                      department  \\\n",
       "0  British Telecommunications Plc   9000.00              Financial Services   \n",
       "1                  BROXAP LIMITED   5424.52     Parks & Recreation Services   \n",
       "2       Landscape Engineering Ltd  14900.00     Parks & Recreation Services   \n",
       "3       Landscape Engineering Ltd  14900.00     Parks & Recreation Services   \n",
       "4       BUSINESS IN THE COMMUNITY   5000.00  Economic Development & Tourism   \n",
       "\n",
       "                      service_description          privilege  trade_cat  \\\n",
       "0                    Telephones : Central            Utility   64200000   \n",
       "1  Grounds : R & M : Day to Day : Routine  Material Handling   45233293   \n",
       "2  Grounds : R & M : Day to Day : Routine  Material Handling   45000000   \n",
       "3  Grounds : R & M : Day to Day : Routine  Material Handling   45000000   \n",
       "4                           Miscellaneous          Education   80000000   \n",
       "\n",
       "  service_category  \n",
       "0           member  \n",
       "1      maintenance  \n",
       "2      maintenance  \n",
       "3      maintenance  \n",
       "4             misc  "
      ]
     },
     "execution_count": 4,
     "metadata": {},
     "output_type": "execute_result"
    }
   ],
   "source": [
    "pendle_borough_data.head()"
   ]
  },
  {
   "cell_type": "code",
   "execution_count": 5,
   "metadata": {},
   "outputs": [
    {
     "data": {
      "text/html": [
       "<div>\n",
       "<style scoped>\n",
       "    .dataframe tbody tr th:only-of-type {\n",
       "        vertical-align: middle;\n",
       "    }\n",
       "\n",
       "    .dataframe tbody tr th {\n",
       "        vertical-align: top;\n",
       "    }\n",
       "\n",
       "    .dataframe thead th {\n",
       "        text-align: right;\n",
       "    }\n",
       "</style>\n",
       "<table border=\"1\" class=\"dataframe\">\n",
       "  <thead>\n",
       "    <tr style=\"text-align: right;\">\n",
       "      <th></th>\n",
       "      <th>supplier_name</th>\n",
       "      <th>account_name</th>\n",
       "      <th>service</th>\n",
       "      <th>total_value</th>\n",
       "      <th>privilege</th>\n",
       "      <th>trade_cat</th>\n",
       "      <th>service_category</th>\n",
       "    </tr>\n",
       "  </thead>\n",
       "  <tbody>\n",
       "    <tr>\n",
       "      <th>0</th>\n",
       "      <td>ACORN RECOVERY PROJECTS</td>\n",
       "      <td>PH OTHER CONTRACTS</td>\n",
       "      <td>PUBLIC HEALTH</td>\n",
       "      <td>5790.0</td>\n",
       "      <td>Health</td>\n",
       "      <td>85100000</td>\n",
       "      <td>health</td>\n",
       "    </tr>\n",
       "    <tr>\n",
       "      <th>1</th>\n",
       "      <td>BARNARDOS</td>\n",
       "      <td>PH BUSINESS CASES</td>\n",
       "      <td>PUBLIC HEALTH</td>\n",
       "      <td>5516.0</td>\n",
       "      <td>Health</td>\n",
       "      <td>85300000</td>\n",
       "      <td>health</td>\n",
       "    </tr>\n",
       "    <tr>\n",
       "      <th>2</th>\n",
       "      <td>EARLY BREAK</td>\n",
       "      <td>ACTIVITIES</td>\n",
       "      <td>PUBLIC HEALTH</td>\n",
       "      <td>53913.0</td>\n",
       "      <td>Material</td>\n",
       "      <td>44221000</td>\n",
       "      <td>health</td>\n",
       "    </tr>\n",
       "    <tr>\n",
       "      <th>3</th>\n",
       "      <td>EARLY BREAK</td>\n",
       "      <td>ACTIVITIES</td>\n",
       "      <td>PUBLIC HEALTH</td>\n",
       "      <td>49502.0</td>\n",
       "      <td>Social</td>\n",
       "      <td>98000000</td>\n",
       "      <td>health</td>\n",
       "    </tr>\n",
       "    <tr>\n",
       "      <th>4</th>\n",
       "      <td>EARLY BREAK</td>\n",
       "      <td>ACTIVITIES</td>\n",
       "      <td>PUBLIC HEALTH</td>\n",
       "      <td>49502.0</td>\n",
       "      <td>Social</td>\n",
       "      <td>98000000</td>\n",
       "      <td>health</td>\n",
       "    </tr>\n",
       "  </tbody>\n",
       "</table>\n",
       "</div>"
      ],
      "text/plain": [
       "             supplier_name        account_name        service  total_value  \\\n",
       "0  ACORN RECOVERY PROJECTS  PH OTHER CONTRACTS  PUBLIC HEALTH       5790.0   \n",
       "1                BARNARDOS   PH BUSINESS CASES  PUBLIC HEALTH       5516.0   \n",
       "2              EARLY BREAK          ACTIVITIES  PUBLIC HEALTH      53913.0   \n",
       "3              EARLY BREAK          ACTIVITIES  PUBLIC HEALTH      49502.0   \n",
       "4              EARLY BREAK          ACTIVITIES  PUBLIC HEALTH      49502.0   \n",
       "\n",
       "  privilege  trade_cat service_category  \n",
       "0    Health   85100000           health  \n",
       "1    Health   85300000           health  \n",
       "2  Material   44221000           health  \n",
       "3    Social   98000000           health  \n",
       "4    Social   98000000           health  "
      ]
     },
     "execution_count": 5,
     "metadata": {},
     "output_type": "execute_result"
    }
   ],
   "source": [
    "rochdale_borough_data.head()"
   ]
  },
  {
   "cell_type": "code",
   "execution_count": 6,
   "metadata": {},
   "outputs": [],
   "source": [
    "input_data = pendle_borough_data.loc[:, ['privilege', 'service_category', 'value']]\n",
    "privilege_data = input_data.groupby(by=['privilege']).sum()\n",
    "service_data = input_data.groupby(by=['service_category']).sum()"
   ]
  },
  {
   "cell_type": "code",
   "execution_count": 326,
   "metadata": {},
   "outputs": [
    {
     "name": "stdout",
     "output_type": "stream",
     "text": [
      "F_onewayResult(statistic=0.11085660907162993, pvalue=0.744915850624676)\n",
      "Ttest_indResult(statistic=-0.33295136142029813, pvalue=0.7449158506246765)\n",
      "3 [0.99744388 0.99328063 0.9912425  1.         0.99077654 0.99592897] [1.04912061e-11 1.05618526e-11 1.06248000e-11 1.04747642e-11\n",
      " 1.05478367e-11 1.05034762e-11]\n",
      "Power_divergenceResult(statistic=266.93763301059926, pvalue=1.2721392266594729e-55)\n",
      "0 [1.         0.90136379 0.74223152 0.56243933 0.64229319 0.9080128\n",
      " 0.96155978 0.91154753] [1.28584973e-08 9.37015587e-07 8.56691634e-09 4.15186154e-08\n",
      " 1.57581363e-08 1.37809057e-07 1.18705208e-06 1.57194109e-08]\n",
      "Power_divergenceResult(statistic=235.61662641933415, pvalue=3.17759368257722e-47)\n"
     ]
    }
   ],
   "source": [
    "s = cvx.Variable(service_data.values.shape[0])\n",
    "p = cvx.Variable(privilege_data.values.shape[0])\n",
    "\n",
    "service = cvx.matmul(s, service_data.values[:,0])\n",
    "privilege = cvx.matmul(p, privilege_data.values[:,0])\n",
    "\n",
    "# SPECTRUM\n",
    "GAMMA_SHAPE=5e4\n",
    "GAMMA_SCALE=1e30\n",
    "NORMAL_CENTER=1e30\n",
    "NORMAL_STD=5e29\n",
    "\n",
    "dmu_s = np.random.gamma(GAMMA_SHAPE, GAMMA_SCALE, service_data.values.shape[0])\n",
    "dmu_p = np.random.normal(NORMAL_CENTER, NORMAL_STD, privilege_data.values.shape[0])\n",
    "# objective function\n",
    "objective = cvx.Maximize(service)\n",
    "\n",
    "# constraints\n",
    "constraints = [cvx.matmul(s, dmu_s) - cvx.matmul(p, dmu_p) <= 0, privilege == 1, s >= 0, p >= 0]\n",
    "\n",
    "# use cvxpy to solve the objective\n",
    "problem = cvx.Problem(objective, constraints).solve(verbose=False, solver=cvx.SCS, max_iters=500)\n",
    "\n",
    "print(f_oneway(privilege_data.values[:,0], service_data.values[:,0]))\n",
    "print(ttest_ind(privilege_data.values[:,0], service_data.values[:,0]))\n",
    "print(np.argmax(dmu_s/dmu_s.max()), dmu_s/dmu_s.max(), s.value)\n",
    "print(chisquare(dmu_s/dmu_s.max(), service_data.values[:,0]/service_data.values.max()))\n",
    "\n",
    "print(np.argmax(dmu_p/dmu_p.max()), dmu_p/dmu_p.max(), p.value)\n",
    "print(chisquare(dmu_p/dmu_p.max(), privilege_data.values[:,0]/privilege_data.values.max()))\n",
    "\n",
    "# ['data', 'expense', 'finance', 'maintenance', 'member', 'misc']\n",
    "# ['Administration', 'Data', 'Education', 'Equipment', 'Insurance', 'Material Handling', 'Transport', 'Utility']"
   ]
  },
  {
   "cell_type": "markdown",
   "metadata": {},
   "source": [
    "**Looking at the data:**\n",
    "\n",
    "- F Test and T Test between Supplier Trade Usage and Service Maximisation indicate a pvalue of 0.74. \n",
    "\n",
    "The F ratio is higher for the comparison and T value is small indicating the spread is over the exposures rather than the data and that is what we need\n",
    "\n",
    "- Chi Frequency is lower for service indicating a single exposure does not signify for service but is greatly seen for privilege\n",
    "\n",
    "At the input level, It is Service Maximisation less influencial and Trade Usage more influencial, we need to balance them\n",
    "\n",
    "- We see that exposures are managed perfectly\n",
    "\n",
    "- We also see that supplier trade usage is more influencial, in order to balance it we need to change the input dmu distribution\n",
    "\n",
    "- With the Gamma Distribution, we get a superceeded Service rather than the Privilege"
   ]
  },
  {
   "cell_type": "code",
   "execution_count": 8,
   "metadata": {},
   "outputs": [
    {
     "data": {
      "text/plain": [
       "(Index(['data', 'expense', 'finance', 'maintenance', 'member', 'misc'], dtype='object', name='service_category'),\n",
       " Index(['Administration', 'Data', 'Education', 'Equipment', 'Insurance',\n",
       "        'Material Handling', 'Transport', 'Utility'],\n",
       "       dtype='object', name='privilege'))"
      ]
     },
     "execution_count": 8,
     "metadata": {},
     "output_type": "execute_result"
    }
   ],
   "source": [
    "service_data.index, privilege_data.index"
   ]
  },
  {
   "cell_type": "code",
   "execution_count": 9,
   "metadata": {},
   "outputs": [
    {
     "data": {
      "text/plain": [
       "(array([4.79461104e-07, 5.09262979e-07, 5.46827181e-07, 4.83229230e-07,\n",
       "        4.80661696e-07, 4.79291241e-07]),\n",
       " array([2.20045759e-07, 6.29520979e-07, 2.22546177e-07, 2.19446274e-07,\n",
       "        2.22001773e-07, 1.91454387e-07, 1.35436353e-06, 2.19984274e-07]))"
      ]
     },
     "execution_count": 9,
     "metadata": {},
     "output_type": "execute_result"
    }
   ],
   "source": [
    "s.value, p.value"
   ]
  },
  {
   "cell_type": "code",
   "execution_count": 10,
   "metadata": {},
   "outputs": [
    {
     "data": {
      "text/html": [
       "<div>\n",
       "<style scoped>\n",
       "    .dataframe tbody tr th:only-of-type {\n",
       "        vertical-align: middle;\n",
       "    }\n",
       "\n",
       "    .dataframe tbody tr th {\n",
       "        vertical-align: top;\n",
       "    }\n",
       "\n",
       "    .dataframe thead th {\n",
       "        text-align: right;\n",
       "    }\n",
       "</style>\n",
       "<table border=\"1\" class=\"dataframe\">\n",
       "  <thead>\n",
       "    <tr style=\"text-align: right;\">\n",
       "      <th></th>\n",
       "      <th></th>\n",
       "      <th>total_value</th>\n",
       "    </tr>\n",
       "    <tr>\n",
       "      <th>privilege</th>\n",
       "      <th>service_category</th>\n",
       "      <th></th>\n",
       "    </tr>\n",
       "  </thead>\n",
       "  <tbody>\n",
       "    <tr>\n",
       "      <th rowspan=\"5\" valign=\"top\">Administration</th>\n",
       "      <th>economy</th>\n",
       "      <td>15100.00</td>\n",
       "    </tr>\n",
       "    <tr>\n",
       "      <th>education</th>\n",
       "      <td>10999.40</td>\n",
       "    </tr>\n",
       "    <tr>\n",
       "      <th>environment</th>\n",
       "      <td>115288.73</td>\n",
       "    </tr>\n",
       "    <tr>\n",
       "      <th>health</th>\n",
       "      <td>5423.00</td>\n",
       "    </tr>\n",
       "    <tr>\n",
       "      <th>member</th>\n",
       "      <td>20000.00</td>\n",
       "    </tr>\n",
       "    <tr>\n",
       "      <th>...</th>\n",
       "      <th>...</th>\n",
       "      <td>...</td>\n",
       "    </tr>\n",
       "    <tr>\n",
       "      <th rowspan=\"2\" valign=\"top\">Transport</th>\n",
       "      <th>maintenance</th>\n",
       "      <td>56611.00</td>\n",
       "    </tr>\n",
       "    <tr>\n",
       "      <th>misc</th>\n",
       "      <td>7280.00</td>\n",
       "    </tr>\n",
       "    <tr>\n",
       "      <th rowspan=\"3\" valign=\"top\">Utility</th>\n",
       "      <th>education</th>\n",
       "      <td>29400.00</td>\n",
       "    </tr>\n",
       "    <tr>\n",
       "      <th>environment</th>\n",
       "      <td>166470.82</td>\n",
       "    </tr>\n",
       "    <tr>\n",
       "      <th>misc</th>\n",
       "      <td>161000.00</td>\n",
       "    </tr>\n",
       "  </tbody>\n",
       "</table>\n",
       "<p>100 rows × 1 columns</p>\n",
       "</div>"
      ],
      "text/plain": [
       "                                 total_value\n",
       "privilege      service_category             \n",
       "Administration economy              15100.00\n",
       "               education            10999.40\n",
       "               environment         115288.73\n",
       "               health                5423.00\n",
       "               member               20000.00\n",
       "...                                      ...\n",
       "Transport      maintenance          56611.00\n",
       "               misc                  7280.00\n",
       "Utility        education            29400.00\n",
       "               environment         166470.82\n",
       "               misc                161000.00\n",
       "\n",
       "[100 rows x 1 columns]"
      ]
     },
     "execution_count": 10,
     "metadata": {},
     "output_type": "execute_result"
    }
   ],
   "source": [
    "input_data = rochdale_borough_data.loc[:, ['privilege', 'service_category', 'total_value']]\n",
    "input_data.groupby(by=['privilege', 'service_category']).sum()"
   ]
  }
 ],
 "metadata": {
  "kernelspec": {
   "display_name": "Python 3",
   "language": "python",
   "name": "python3"
  },
  "language_info": {
   "codemirror_mode": {
    "name": "ipython",
    "version": 3
   },
   "file_extension": ".py",
   "mimetype": "text/x-python",
   "name": "python",
   "nbconvert_exporter": "python",
   "pygments_lexer": "ipython3",
   "version": "3.6.9"
  }
 },
 "nbformat": 4,
 "nbformat_minor": 4
}
